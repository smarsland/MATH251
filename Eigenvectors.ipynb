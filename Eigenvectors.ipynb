{
 "cells": [
  {
   "cell_type": "code",
   "execution_count": 1,
   "id": "34e1b550",
   "metadata": {},
   "outputs": [],
   "source": [
    "import numpy as np\n",
    "import math\n",
    "import pylab as pl\n",
    "from ipywidgets import interact, interactive, fixed\n",
    "from IPython.display import display"
   ]
  },
  {
   "cell_type": "code",
   "execution_count": 2,
   "id": "81657abf",
   "metadata": {},
   "outputs": [],
   "source": [
    "def showvecs(A,angle,length):\n",
    "    fig = pl.figure()\n",
    "    ax = fig.gca()\n",
    "    pl.grid()\n",
    "    ax.set_aspect('equal')\n",
    "    pl.xlim(-5,5)\n",
    "    pl.ylim(-5,5)\n",
    "    ax.arrow(0, 0, length*np.cos(angle), length*np.sin(angle), head_width=0.5, head_length=0.7, fc='green', ec='black')\n",
    "    x = np.dot(A,[length*np.cos(angle), length*np.sin(angle)])\n",
    "    ax.arrow(0, 0, x[0],x[1], head_width=0.5, head_length=0.7, fc='red', ec='black')"
   ]
  },
  {
   "cell_type": "code",
   "execution_count": 3,
   "id": "8987d2bb",
   "metadata": {},
   "outputs": [
    {
     "name": "stdout",
     "output_type": "stream",
     "text": [
      "[3. 1.]\n",
      "[[ 0.70710678  0.70710678]\n",
      " [-0.70710678  0.70710678]]\n"
     ]
    },
    {
     "data": {
      "application/vnd.jupyter.widget-view+json": {
       "model_id": "66862554044044d6adb6e332a4ce26ff",
       "version_major": 2,
       "version_minor": 0
      },
      "text/plain": [
       "interactive(children=(FloatSlider(value=3.141592653589793, description='angle', max=6.283185307179586), IntSli…"
      ]
     },
     "execution_count": 3,
     "metadata": {},
     "output_type": "execute_result"
    }
   ],
   "source": [
    "A = np.array([[2,-1],[-1,2]])\n",
    "print(np.linalg.eig(A)[0])\n",
    "print(np.linalg.eig(A)[1])\n",
    "interactive(showvecs,A=fixed(A),angle=(0, 2*np.pi),length=(0,5))"
   ]
  },
  {
   "cell_type": "code",
   "execution_count": 4,
   "id": "c59de315",
   "metadata": {},
   "outputs": [
    {
     "name": "stdout",
     "output_type": "stream",
     "text": [
      "[2. 0.]\n",
      "[[ 0.70710678 -0.70710678]\n",
      " [ 0.70710678  0.70710678]]\n"
     ]
    },
    {
     "data": {
      "application/vnd.jupyter.widget-view+json": {
       "model_id": "2a2a5344368c4394bd85cb880c6717ae",
       "version_major": 2,
       "version_minor": 0
      },
      "text/plain": [
       "interactive(children=(FloatSlider(value=3.141592653589793, description='angle', max=6.283185307179586), IntSli…"
      ]
     },
     "execution_count": 4,
     "metadata": {},
     "output_type": "execute_result"
    }
   ],
   "source": [
    "A = np.array([[1,1],[1,1]])\n",
    "print(np.linalg.eig(A)[0])\n",
    "print(np.linalg.eig(A)[1])\n",
    "interactive(showvecs,A=fixed(A),angle=(0, 2*np.pi),length=(0,5))"
   ]
  },
  {
   "cell_type": "code",
   "execution_count": 5,
   "id": "1455c72e",
   "metadata": {},
   "outputs": [
    {
     "name": "stdout",
     "output_type": "stream",
     "text": [
      "[6. 6.]\n",
      "[[0.83205029 0.83205029]\n",
      " [0.5547002  0.5547002 ]]\n"
     ]
    },
    {
     "data": {
      "application/vnd.jupyter.widget-view+json": {
       "model_id": "0cc8d1a542af443180bb25789616c165",
       "version_major": 2,
       "version_minor": 0
      },
      "text/plain": [
       "interactive(children=(FloatSlider(value=3.141592653589793, description='angle', max=6.283185307179586), IntSli…"
      ]
     },
     "execution_count": 5,
     "metadata": {},
     "output_type": "execute_result"
    }
   ],
   "source": [
    "A = np.array([[12,-9],[4,0]])\n",
    "print(np.linalg.eig(A)[0])\n",
    "print(np.linalg.eig(A)[1])\n",
    "interactive(showvecs,A=fixed(A),angle=(0, 2*np.pi),length=(0,5))"
   ]
  },
  {
   "cell_type": "code",
   "execution_count": 6,
   "id": "e41be477",
   "metadata": {},
   "outputs": [
    {
     "name": "stdout",
     "output_type": "stream",
     "text": [
      "[2. 2.]\n",
      "[[1. 0.]\n",
      " [0. 1.]]\n"
     ]
    },
    {
     "data": {
      "application/vnd.jupyter.widget-view+json": {
       "model_id": "05d30abab1f1406dba6ef88f6daa0a10",
       "version_major": 2,
       "version_minor": 0
      },
      "text/plain": [
       "interactive(children=(FloatSlider(value=3.141592653589793, description='angle', max=6.283185307179586), IntSli…"
      ]
     },
     "execution_count": 6,
     "metadata": {},
     "output_type": "execute_result"
    }
   ],
   "source": [
    "A = np.array([[2,0],[0,2]])\n",
    "print(np.linalg.eig(A)[0])\n",
    "print(np.linalg.eig(A)[1])\n",
    "interactive(showvecs,A=fixed(A),angle=(0, 2*np.pi),length=(0,5))"
   ]
  },
  {
   "cell_type": "code",
   "execution_count": 7,
   "id": "1d68f0be",
   "metadata": {},
   "outputs": [
    {
     "name": "stdout",
     "output_type": "stream",
     "text": [
      "[3. 3.]\n",
      "[[ 0.70710678 -0.70710678]\n",
      " [ 0.70710678 -0.70710678]]\n"
     ]
    },
    {
     "data": {
      "application/vnd.jupyter.widget-view+json": {
       "model_id": "d8cc6af278444010a654eae69b50efc4",
       "version_major": 2,
       "version_minor": 0
      },
      "text/plain": [
       "interactive(children=(FloatSlider(value=3.141592653589793, description='angle', max=6.283185307179586), IntSli…"
      ]
     },
     "execution_count": 7,
     "metadata": {},
     "output_type": "execute_result"
    }
   ],
   "source": [
    "A = np.array([[2,1],[-1,4]])\n",
    "print(np.linalg.eig(A)[0])\n",
    "print(np.linalg.eig(A)[1])\n",
    "interactive(showvecs,A=fixed(A),angle=(0, 2*np.pi),length=(0,5))"
   ]
  },
  {
   "cell_type": "code",
   "execution_count": 8,
   "id": "559e4507",
   "metadata": {},
   "outputs": [
    {
     "name": "stdout",
     "output_type": "stream",
     "text": [
      "[1.5+2.39791576j 1.5-2.39791576j]\n",
      "[[0.12909944+0.61913919j 0.12909944-0.61913919j]\n",
      " [0.77459667+0.j         0.77459667-0.j        ]]\n"
     ]
    },
    {
     "data": {
      "application/vnd.jupyter.widget-view+json": {
       "model_id": "517d9bdada8641868b1539cad88d3118",
       "version_major": 2,
       "version_minor": 0
      },
      "text/plain": [
       "interactive(children=(FloatSlider(value=3.141592653589793, description='angle', max=6.283185307179586), IntSli…"
      ]
     },
     "execution_count": 8,
     "metadata": {},
     "output_type": "execute_result"
    }
   ],
   "source": [
    "A = np.array([[2,-2],[3,1]])\n",
    "print(np.linalg.eig(A)[0])\n",
    "print(np.linalg.eig(A)[1])\n",
    "interactive(showvecs,A=fixed(A),angle=(0, 2*np.pi),length=(0,5))"
   ]
  },
  {
   "cell_type": "code",
   "execution_count": 9,
   "id": "d3461704",
   "metadata": {},
   "outputs": [
    {
     "name": "stdout",
     "output_type": "stream",
     "text": [
      "[-2.+3.j -2.-3.j]\n",
      "[[0.70710678+0.j         0.70710678-0.j        ]\n",
      " [0.        -0.70710678j 0.        +0.70710678j]]\n"
     ]
    },
    {
     "data": {
      "application/vnd.jupyter.widget-view+json": {
       "model_id": "8720241ad54446b59aec6c44daa1a05a",
       "version_major": 2,
       "version_minor": 0
      },
      "text/plain": [
       "interactive(children=(FloatSlider(value=3.141592653589793, description='angle', max=6.283185307179586), IntSli…"
      ]
     },
     "execution_count": 9,
     "metadata": {},
     "output_type": "execute_result"
    }
   ],
   "source": [
    "A = np.array([[-2,-3],[3,-2]])\n",
    "print(np.linalg.eig(A)[0])\n",
    "print(np.linalg.eig(A)[1])\n",
    "interactive(showvecs,A=fixed(A),angle=(0, 2*np.pi),length=(0,5))"
   ]
  },
  {
   "cell_type": "code",
   "execution_count": 10,
   "id": "4fad29f1",
   "metadata": {},
   "outputs": [
    {
     "name": "stdout",
     "output_type": "stream",
     "text": [
      "[0.+3.j 0.-3.j]\n",
      "[[-0.9486833+0.j         -0.9486833-0.j        ]\n",
      " [ 0.       +0.31622777j  0.       -0.31622777j]]\n"
     ]
    },
    {
     "data": {
      "application/vnd.jupyter.widget-view+json": {
       "model_id": "4c7d777bba1f4b75919bd38b480fb602",
       "version_major": 2,
       "version_minor": 0
      },
      "text/plain": [
       "interactive(children=(FloatSlider(value=3.141592653589793, description='angle', max=6.283185307179586), IntSli…"
      ]
     },
     "execution_count": 10,
     "metadata": {},
     "output_type": "execute_result"
    }
   ],
   "source": [
    "A = np.array([[0,-9],[1,0]])\n",
    "print(np.linalg.eig(A)[0])\n",
    "print(np.linalg.eig(A)[1])\n",
    "interactive(showvecs,A=fixed(A),angle=(0, 2*np.pi),length=(0,5))"
   ]
  },
  {
   "cell_type": "code",
   "execution_count": 11,
   "id": "851bab41",
   "metadata": {},
   "outputs": [],
   "source": [
    "def plotvec(ax,vec,c='lightblue'):\n",
    "    ax.arrow(0, 0, vec[0], vec[1], head_width=0.5, head_length=0.7, fc=c, ec='black')\n",
    "\n",
    "def plotvec2(ax,angle,length,c='lightblue'):\n",
    "    ax.arrow(0, 0, length*np.cos(angle), length*np.sin(angle), head_width=0.5, head_length=0.7, fc=c, ec='black')"
   ]
  },
  {
   "cell_type": "code",
   "execution_count": 12,
   "id": "f4d78cfa",
   "metadata": {},
   "outputs": [
    {
     "data": {
      "image/png": "[encoded data removed]",
      "text/plain": [
       "<Figure size 640x480 with 1 Axes>"
      ]
     },
     "metadata": {},
     "output_type": "display_data"
    }
   ],
   "source": [
    "fig = pl.figure()\n",
    "ax = fig.gca()\n",
    "pl.grid()\n",
    "ax.set_aspect('equal')\n",
    "pl.xlim(-5,5)\n",
    "pl.ylim(-5,5)\n",
    "\n",
    "plotvec(ax,[3,4],'red')\n",
    "plotvec(ax,[-2,3],'green')"
   ]
  },
  {
   "cell_type": "code",
   "execution_count": 13,
   "id": "6af4019c",
   "metadata": {},
   "outputs": [
    {
     "data": {
      "image/png": "[encoded data removed]",
      "text/plain": [
       "<Figure size 640x480 with 1 Axes>"
      ]
     },
     "metadata": {},
     "output_type": "display_data"
    }
   ],
   "source": [
    "fig = pl.figure()\n",
    "ax = fig.gca()\n",
    "pl.grid()\n",
    "ax.set_aspect('equal')\n",
    "pl.xlim(-5,5)\n",
    "pl.ylim(-5,5)\n",
    "\n",
    "plotvec(ax,[1,2],'red')\n",
    "A = np.array([[2,-1],[-1,2]])\n",
    "plotvec(ax,np.dot(A,[1,2]),'green')\n"
   ]
  },
  {
   "cell_type": "code",
   "execution_count": 14,
   "id": "4768082a",
   "metadata": {},
   "outputs": [
    {
     "data": {
      "image/png": "[encoded data removed]",
      "text/plain": [
       "<Figure size 640x480 with 1 Axes>"
      ]
     },
     "metadata": {},
     "output_type": "display_data"
    }
   ],
   "source": [
    "fig = pl.figure()\n",
    "ax = fig.gca()\n",
    "pl.grid()\n",
    "ax.set_aspect('equal')\n",
    "pl.xlim(-5,5)\n",
    "pl.ylim(-5,5)\n",
    "\n",
    "A = np.array([[2,-1],[-1,2]])\n",
    "plotvec(ax,[np.sqrt(2),-np.sqrt(2)],'green')\n",
    "plotvec(ax,np.dot(A,[np.sqrt(2),-np.sqrt(2)]),'black')\n",
    "\n",
    "plotvec(ax,[-np.sqrt(2),-np.sqrt(2)],'red')\n",
    "plotvec(ax,np.dot(A,[-np.sqrt(2),-np.sqrt(2)]),'blue')"
   ]
  },
  {
   "cell_type": "code",
   "execution_count": 15,
   "id": "ef3aca7f",
   "metadata": {},
   "outputs": [
    {
     "data": {
      "text/plain": [
       "EigResult(eigenvalues=array([3., 1.]), eigenvectors=array([[ 0.70710678,  0.70710678],\n",
       "       [-0.70710678,  0.70710678]]))"
      ]
     },
     "execution_count": 15,
     "metadata": {},
     "output_type": "execute_result"
    }
   ],
   "source": [
    "A = np.array([[2,-1],[-1,2]])\n",
    "np.linalg.eig(A)"
   ]
  },
  {
   "cell_type": "code",
   "execution_count": 16,
   "id": "309cc9d6",
   "metadata": {},
   "outputs": [
    {
     "data": {
      "text/plain": [
       "EigResult(eigenvalues=array([-2.+3.j, -2.-3.j]), eigenvectors=array([[0.70710678+0.j        , 0.70710678-0.j        ],\n",
       "       [0.        -0.70710678j, 0.        +0.70710678j]]))"
      ]
     },
     "execution_count": 16,
     "metadata": {},
     "output_type": "execute_result"
    }
   ],
   "source": [
    "A = np.array([[-2,-3],[3,-2]])\n",
    "np.linalg.eig(A)"
   ]
  },
  {
   "cell_type": "code",
   "execution_count": 17,
   "id": "6253b43c",
   "metadata": {},
   "outputs": [
    {
     "data": {
      "text/plain": [
       "EigResult(eigenvalues=array([2., 0.]), eigenvectors=array([[ 0.70710678, -0.70710678],\n",
       "       [ 0.70710678,  0.70710678]]))"
      ]
     },
     "execution_count": 17,
     "metadata": {},
     "output_type": "execute_result"
    }
   ],
   "source": [
    "A = np.array([[1,1],[1,1]])\n",
    "np.linalg.eig(A)"
   ]
  },
  {
   "cell_type": "code",
   "execution_count": 18,
   "id": "fa588034",
   "metadata": {},
   "outputs": [
    {
     "data": {
      "text/plain": [
       "EigResult(eigenvalues=array([0., 5.]), eigenvectors=array([[-0.89442719, -0.4472136 ],\n",
       "       [ 0.4472136 , -0.89442719]]))"
      ]
     },
     "execution_count": 18,
     "metadata": {},
     "output_type": "execute_result"
    }
   ],
   "source": [
    "A = np.array([[1,2],[2,4]])\n",
    "np.linalg.eig(A)"
   ]
  },
  {
   "cell_type": "code",
   "execution_count": 19,
   "id": "f597b5ca",
   "metadata": {},
   "outputs": [
    {
     "data": {
      "text/plain": [
       "0.0"
      ]
     },
     "execution_count": 19,
     "metadata": {},
     "output_type": "execute_result"
    }
   ],
   "source": [
    "lamb = 5\n",
    "np.linalg.det(A-lamb*np.eye(2))"
   ]
  },
  {
   "cell_type": "code",
   "execution_count": 20,
   "id": "8fb9ed28",
   "metadata": {},
   "outputs": [],
   "source": [
    "A = np.array([[2,-1],[-1,2]])"
   ]
  },
  {
   "cell_type": "code",
   "execution_count": 21,
   "id": "b4672c73",
   "metadata": {},
   "outputs": [
    {
     "data": {
      "image/png": "[encoded data removed]",
      "text/plain": [
       "<Figure size 640x480 with 1 Axes>"
      ]
     },
     "metadata": {},
     "output_type": "display_data"
    }
   ],
   "source": [
    "fig = pl.figure()\n",
    "ax = fig.gca()\n",
    "pl.grid()\n",
    "ax.set_aspect('equal')\n",
    "pl.xlim(-10,10)\n",
    "pl.ylim(-10,10)\n",
    "\n",
    "plotvec(ax,[1,2],'red')\n",
    "plotvec(ax,np.dot(A,[1,2]))\n",
    "\n",
    "plotvec(ax,[np.sqrt(2),-np.sqrt(2)],'green')\n",
    "plotvec(ax,np.dot(A,[np.sqrt(2),-np.sqrt(2)]),'black')\n"
   ]
  }
 ],
 "metadata": {
  "kernelspec": {
   "display_name": "Python 3 (ipykernel)",
   "language": "python",
   "name": "python3"
  },
  "language_info": {
   "codemirror_mode": {
    "name": "ipython",
    "version": 3
   },
   "file_extension": ".py",
   "mimetype": "text/x-python",
   "name": "python",
   "nbconvert_exporter": "python",
   "pygments_lexer": "ipython3",
   "version": "3.11.0"
  }
 },
 "nbformat": 4,
 "nbformat_minor": 5
}
